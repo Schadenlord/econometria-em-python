{
 "cells": [
  {
   "cell_type": "markdown",
   "metadata": {},
   "source": [
    "# Introdução a Econometria - Parte III\n",
    "\n",
    "O que já vimos até agora:\n",
    "\n",
    "## Cross Section\n",
    "- **Modelo de Regressão Linear Simples**\n",
    "- **Modelo de Regressão Linear Múltipla**\n",
    "- **Estimação dos Parâmetros**\n",
    "- **Cross Section**\n",
    "- **Multicolinearidade**\n",
    "- **Heterocedasticidade**\n",
    "- **R²**\n",
    "- **P-Value**\n",
    "- **Beta**\n",
    "\n",
    "## Séries Temporais\n",
    "- **Series Temporais**\n",
    "- **Principais Conceitos**\n",
    "- **Problemas comuns**\n",
    "- **Autocorrelação**\n",
    "- **Estacionariedade**\n",
    "- **Processos Estocásticos**\n",
    "- **Defasagem**\n",
    "\n",
    "## Agora vamos falar sobre **Dados em Painel**\n",
    "\n",
    "Dados em painel são uma combinação de dados de corte transversal e séries temporais. Eles são usados para analisar a variação de uma variável ao longo do tempo e entre diferentes entidades. \n",
    "\n",
    "Os dados em painel são muito úteis para analisar como as variáveis se comportam ao longo do tempo e entre diferentes entidades. Eles são amplamente utilizados em economia, finanças, ciência política e outras áreas.\n"
   ]
  },
  {
   "cell_type": "code",
   "execution_count": null,
   "metadata": {},
   "outputs": [],
   "source": []
  }
 ],
 "metadata": {
  "kernelspec": {
   "display_name": ".venv",
   "language": "python",
   "name": "python3"
  },
  "language_info": {
   "name": "python",
   "version": "3.10.11"
  }
 },
 "nbformat": 4,
 "nbformat_minor": 2
}
